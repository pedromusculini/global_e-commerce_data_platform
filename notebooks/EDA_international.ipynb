{
 "cells": [
  {
   "cell_type": "markdown",
   "id": "8f615e2e",
   "metadata": {},
   "source": [
    "# International E-commerce EDA\n",
    "This notebook provides a robust workflow to load, diagnose, and visualize international e-commerce data."
   ]
  },
  {
   "cell_type": "markdown",
   "id": "682e9a9b",
   "metadata": {},
   "source": [
    "## 1. Import Required Libraries\n",
    "Import all necessary libraries for data manipulation and visualization."
   ]
  },
  {
   "cell_type": "code",
   "execution_count": 1,
   "id": "7269f504",
   "metadata": {},
   "outputs": [],
   "source": [
    "# Imports and setup\n",
    "import pandas as pd\n",
    "import numpy as np\n",
    "import matplotlib.pyplot as plt\n",
    "import seaborn as sns\n",
    "from pathlib import Path\n",
    "import os"
   ]
  },
  {
   "cell_type": "markdown",
   "id": "8f67e67f",
   "metadata": {},
   "source": [
    "## 2. Define Paths and Check Files\n",
    "Set the path for the data file and check if it exists before loading."
   ]
  },
  {
   "cell_type": "code",
   "execution_count": 2,
   "id": "b3ee3650",
   "metadata": {},
   "outputs": [
    {
     "name": "stdout",
     "output_type": "stream",
     "text": [
      "File '..\\data\\E-commerce Dataset.csv': FOUND\n"
     ]
    },
    {
     "data": {
      "text/plain": [
       "True"
      ]
     },
     "execution_count": 2,
     "metadata": {},
     "output_type": "execute_result"
    }
   ],
   "source": [
    "# Define data path and check file existence\n",
    "data_dir = Path('../data/')\n",
    "file_ecommerce = data_dir / 'E-commerce Dataset.csv'\n",
    "def check_file_exists(filepath):\n",
    "    exists = os.path.exists(filepath)\n",
    "    print(f\"File '{filepath}': {'FOUND' if exists else 'NOT FOUND'}\")\n",
    "    return exists\n",
    "check_file_exists(file_ecommerce)"
   ]
  },
  {
   "cell_type": "markdown",
   "id": "a5ead6bb",
   "metadata": {},
   "source": [
    "## 3. Load E-commerce Dataset\n",
    "Load the CSV file into a DataFrame with robust error handling."
   ]
  },
  {
   "cell_type": "code",
   "execution_count": 3,
   "id": "5464fb13",
   "metadata": {},
   "outputs": [
    {
     "name": "stdout",
     "output_type": "stream",
     "text": [
      "E-commerce Dataset loaded successfully.\n",
      "Shape: (51290, 16)\n"
     ]
    }
   ],
   "source": [
    "# Load E-commerce Dataset\n",
    "ecommerce_df = None\n",
    "try:\n",
    "    ecommerce_df = pd.read_csv(file_ecommerce, low_memory=False)\n",
    "    print(\"E-commerce Dataset loaded successfully.\")\n",
    "    print(f\"Shape: {ecommerce_df.shape}\")\n",
    "except Exception as e:\n",
    "    print(f\"Error loading E-commerce Dataset: {e}\")"
   ]
  },
  {
   "cell_type": "markdown",
   "id": "520f66fb",
   "metadata": {},
   "source": [
    "## 4. Initial DataFrame Diagnostics\n",
    "Show shape, columns, and first rows to confirm successful loading."
   ]
  },
  {
   "cell_type": "code",
   "execution_count": 4,
   "id": "058a020c",
   "metadata": {},
   "outputs": [
    {
     "name": "stdout",
     "output_type": "stream",
     "text": [
      "Shape: (51290, 16)\n",
      "Columns: ['Order_Date', 'Time', 'Aging', 'Customer_Id', 'Gender', 'Device_Type', 'Customer_Login_type', 'Product_Category', 'Product', 'Sales', 'Quantity', 'Discount', 'Profit', 'Shipping_Cost', 'Order_Priority', 'Payment_method']\n"
     ]
    },
    {
     "data": {
      "text/html": [
       "<div>\n",
       "<style scoped>\n",
       "    .dataframe tbody tr th:only-of-type {\n",
       "        vertical-align: middle;\n",
       "    }\n",
       "\n",
       "    .dataframe tbody tr th {\n",
       "        vertical-align: top;\n",
       "    }\n",
       "\n",
       "    .dataframe thead th {\n",
       "        text-align: right;\n",
       "    }\n",
       "</style>\n",
       "<table border=\"1\" class=\"dataframe\">\n",
       "  <thead>\n",
       "    <tr style=\"text-align: right;\">\n",
       "      <th></th>\n",
       "      <th>Order_Date</th>\n",
       "      <th>Time</th>\n",
       "      <th>Aging</th>\n",
       "      <th>Customer_Id</th>\n",
       "      <th>Gender</th>\n",
       "      <th>Device_Type</th>\n",
       "      <th>Customer_Login_type</th>\n",
       "      <th>Product_Category</th>\n",
       "      <th>Product</th>\n",
       "      <th>Sales</th>\n",
       "      <th>Quantity</th>\n",
       "      <th>Discount</th>\n",
       "      <th>Profit</th>\n",
       "      <th>Shipping_Cost</th>\n",
       "      <th>Order_Priority</th>\n",
       "      <th>Payment_method</th>\n",
       "    </tr>\n",
       "  </thead>\n",
       "  <tbody>\n",
       "    <tr>\n",
       "      <th>0</th>\n",
       "      <td>2018-01-02</td>\n",
       "      <td>10:56:33</td>\n",
       "      <td>8.0</td>\n",
       "      <td>37077</td>\n",
       "      <td>Female</td>\n",
       "      <td>Web</td>\n",
       "      <td>Member</td>\n",
       "      <td>Auto &amp; Accessories</td>\n",
       "      <td>Car Media Players</td>\n",
       "      <td>140.0</td>\n",
       "      <td>1.0</td>\n",
       "      <td>0.3</td>\n",
       "      <td>46.0</td>\n",
       "      <td>4.6</td>\n",
       "      <td>Medium</td>\n",
       "      <td>credit_card</td>\n",
       "    </tr>\n",
       "    <tr>\n",
       "      <th>1</th>\n",
       "      <td>2018-07-24</td>\n",
       "      <td>20:41:37</td>\n",
       "      <td>2.0</td>\n",
       "      <td>59173</td>\n",
       "      <td>Female</td>\n",
       "      <td>Web</td>\n",
       "      <td>Member</td>\n",
       "      <td>Auto &amp; Accessories</td>\n",
       "      <td>Car Speakers</td>\n",
       "      <td>211.0</td>\n",
       "      <td>1.0</td>\n",
       "      <td>0.3</td>\n",
       "      <td>112.0</td>\n",
       "      <td>11.2</td>\n",
       "      <td>Medium</td>\n",
       "      <td>credit_card</td>\n",
       "    </tr>\n",
       "    <tr>\n",
       "      <th>2</th>\n",
       "      <td>2018-11-08</td>\n",
       "      <td>08:38:49</td>\n",
       "      <td>8.0</td>\n",
       "      <td>41066</td>\n",
       "      <td>Female</td>\n",
       "      <td>Web</td>\n",
       "      <td>Member</td>\n",
       "      <td>Auto &amp; Accessories</td>\n",
       "      <td>Car Body Covers</td>\n",
       "      <td>117.0</td>\n",
       "      <td>5.0</td>\n",
       "      <td>0.1</td>\n",
       "      <td>31.2</td>\n",
       "      <td>3.1</td>\n",
       "      <td>Critical</td>\n",
       "      <td>credit_card</td>\n",
       "    </tr>\n",
       "    <tr>\n",
       "      <th>3</th>\n",
       "      <td>2018-04-18</td>\n",
       "      <td>19:28:06</td>\n",
       "      <td>7.0</td>\n",
       "      <td>50741</td>\n",
       "      <td>Female</td>\n",
       "      <td>Web</td>\n",
       "      <td>Member</td>\n",
       "      <td>Auto &amp; Accessories</td>\n",
       "      <td>Car &amp; Bike Care</td>\n",
       "      <td>118.0</td>\n",
       "      <td>1.0</td>\n",
       "      <td>0.3</td>\n",
       "      <td>26.2</td>\n",
       "      <td>2.6</td>\n",
       "      <td>High</td>\n",
       "      <td>credit_card</td>\n",
       "    </tr>\n",
       "    <tr>\n",
       "      <th>4</th>\n",
       "      <td>2018-08-13</td>\n",
       "      <td>21:18:39</td>\n",
       "      <td>9.0</td>\n",
       "      <td>53639</td>\n",
       "      <td>Female</td>\n",
       "      <td>Web</td>\n",
       "      <td>Member</td>\n",
       "      <td>Auto &amp; Accessories</td>\n",
       "      <td>Tyre</td>\n",
       "      <td>250.0</td>\n",
       "      <td>1.0</td>\n",
       "      <td>0.3</td>\n",
       "      <td>160.0</td>\n",
       "      <td>16.0</td>\n",
       "      <td>Critical</td>\n",
       "      <td>credit_card</td>\n",
       "    </tr>\n",
       "  </tbody>\n",
       "</table>\n",
       "</div>"
      ],
      "text/plain": [
       "   Order_Date      Time  Aging  Customer_Id  Gender Device_Type  \\\n",
       "0  2018-01-02  10:56:33    8.0        37077  Female         Web   \n",
       "1  2018-07-24  20:41:37    2.0        59173  Female         Web   \n",
       "2  2018-11-08  08:38:49    8.0        41066  Female         Web   \n",
       "3  2018-04-18  19:28:06    7.0        50741  Female         Web   \n",
       "4  2018-08-13  21:18:39    9.0        53639  Female         Web   \n",
       "\n",
       "  Customer_Login_type    Product_Category            Product  Sales  Quantity  \\\n",
       "0              Member  Auto & Accessories  Car Media Players  140.0       1.0   \n",
       "1              Member  Auto & Accessories       Car Speakers  211.0       1.0   \n",
       "2              Member  Auto & Accessories    Car Body Covers  117.0       5.0   \n",
       "3              Member  Auto & Accessories    Car & Bike Care  118.0       1.0   \n",
       "4              Member  Auto & Accessories               Tyre  250.0       1.0   \n",
       "\n",
       "   Discount  Profit  Shipping_Cost Order_Priority Payment_method  \n",
       "0       0.3    46.0            4.6         Medium    credit_card  \n",
       "1       0.3   112.0           11.2         Medium    credit_card  \n",
       "2       0.1    31.2            3.1       Critical    credit_card  \n",
       "3       0.3    26.2            2.6           High    credit_card  \n",
       "4       0.3   160.0           16.0       Critical    credit_card  "
      ]
     },
     "metadata": {},
     "output_type": "display_data"
    }
   ],
   "source": [
    "# Diagnostics: shape, columns, head\n",
    "if ecommerce_df is not None:\n",
    "    print('Shape:', ecommerce_df.shape)\n",
    "    print('Columns:', list(ecommerce_df.columns))\n",
    "    display(ecommerce_df.head())\n",
    "else:\n",
    "    print('ecommerce_df is NOT loaded. Check the file path and name.')"
   ]
  },
  {
   "cell_type": "markdown",
   "id": "163df611",
   "metadata": {},
   "source": [
    "## 5. Data Quality Check\n",
    "Check for missing values, data types, duplicates, and basic statistics."
   ]
  },
  {
   "cell_type": "code",
   "execution_count": 5,
   "id": "3d2ad473",
   "metadata": {},
   "outputs": [
    {
     "name": "stdout",
     "output_type": "stream",
     "text": [
      "Missing values per column:\n",
      "Order_Date             0\n",
      "Time                   0\n",
      "Aging                  1\n",
      "Customer_Id            0\n",
      "Gender                 0\n",
      "Device_Type            0\n",
      "Customer_Login_type    0\n",
      "Product_Category       0\n",
      "Product                0\n",
      "Sales                  1\n",
      "Quantity               2\n",
      "Discount               1\n",
      "Profit                 0\n",
      "Shipping_Cost          1\n",
      "Order_Priority         2\n",
      "Payment_method         0\n",
      "dtype: int64\n",
      "\n",
      "Data types:\n",
      "Order_Date              object\n",
      "Time                    object\n",
      "Aging                  float64\n",
      "Customer_Id              int64\n",
      "Gender                  object\n",
      "Device_Type             object\n",
      "Customer_Login_type     object\n",
      "Product_Category        object\n",
      "Product                 object\n",
      "Sales                  float64\n",
      "Quantity               float64\n",
      "Discount               float64\n",
      "Profit                 float64\n",
      "Shipping_Cost          float64\n",
      "Order_Priority          object\n",
      "Payment_method          object\n",
      "dtype: object\n",
      "\n",
      "Duplicate rows: 0\n",
      "\n",
      "Basic statistics:\n",
      "              Aging   Customer_Id         Sales      Quantity      Discount  \\\n",
      "count  51289.000000  51290.000000  51289.000000  51288.000000  51289.000000   \n",
      "mean       5.255035  58155.758764    152.340872      2.502983      0.303821   \n",
      "std        2.959948  26032.215826     66.495419      1.511859      0.131027   \n",
      "min        1.000000  10000.000000     33.000000      1.000000      0.100000   \n",
      "25%        3.000000  35831.250000     85.000000      1.000000      0.200000   \n",
      "50%        5.000000  61018.000000    133.000000      2.000000      0.300000   \n",
      "75%        8.000000  80736.250000    218.000000      4.000000      0.400000   \n",
      "max       10.500000  99999.000000    250.000000      5.000000      0.500000   \n",
      "\n",
      "             Profit  Shipping_Cost  \n",
      "count  51290.000000   51289.000000  \n",
      "mean      70.407226       7.041557  \n",
      "std       48.729488       4.871745  \n",
      "min        0.500000       0.100000  \n",
      "25%       24.900000       2.500000  \n",
      "50%       59.900000       6.000000  \n",
      "75%      118.400000      11.800000  \n",
      "max      167.500000      16.800000  \n",
      "Order_Date             0\n",
      "Time                   0\n",
      "Aging                  1\n",
      "Customer_Id            0\n",
      "Gender                 0\n",
      "Device_Type            0\n",
      "Customer_Login_type    0\n",
      "Product_Category       0\n",
      "Product                0\n",
      "Sales                  1\n",
      "Quantity               2\n",
      "Discount               1\n",
      "Profit                 0\n",
      "Shipping_Cost          1\n",
      "Order_Priority         2\n",
      "Payment_method         0\n",
      "dtype: int64\n",
      "\n",
      "Data types:\n",
      "Order_Date              object\n",
      "Time                    object\n",
      "Aging                  float64\n",
      "Customer_Id              int64\n",
      "Gender                  object\n",
      "Device_Type             object\n",
      "Customer_Login_type     object\n",
      "Product_Category        object\n",
      "Product                 object\n",
      "Sales                  float64\n",
      "Quantity               float64\n",
      "Discount               float64\n",
      "Profit                 float64\n",
      "Shipping_Cost          float64\n",
      "Order_Priority          object\n",
      "Payment_method          object\n",
      "dtype: object\n",
      "\n",
      "Duplicate rows: 0\n",
      "\n",
      "Basic statistics:\n",
      "              Aging   Customer_Id         Sales      Quantity      Discount  \\\n",
      "count  51289.000000  51290.000000  51289.000000  51288.000000  51289.000000   \n",
      "mean       5.255035  58155.758764    152.340872      2.502983      0.303821   \n",
      "std        2.959948  26032.215826     66.495419      1.511859      0.131027   \n",
      "min        1.000000  10000.000000     33.000000      1.000000      0.100000   \n",
      "25%        3.000000  35831.250000     85.000000      1.000000      0.200000   \n",
      "50%        5.000000  61018.000000    133.000000      2.000000      0.300000   \n",
      "75%        8.000000  80736.250000    218.000000      4.000000      0.400000   \n",
      "max       10.500000  99999.000000    250.000000      5.000000      0.500000   \n",
      "\n",
      "             Profit  Shipping_Cost  \n",
      "count  51290.000000   51289.000000  \n",
      "mean      70.407226       7.041557  \n",
      "std       48.729488       4.871745  \n",
      "min        0.500000       0.100000  \n",
      "25%       24.900000       2.500000  \n",
      "50%       59.900000       6.000000  \n",
      "75%      118.400000      11.800000  \n",
      "max      167.500000      16.800000  \n"
     ]
    }
   ],
   "source": [
    "# Data quality check\n",
    "if ecommerce_df is not None:\n",
    "    print('Missing values per column:')\n",
    "    print(ecommerce_df.isnull().sum())\n",
    "    print('\\nData types:')\n",
    "    print(ecommerce_df.dtypes)\n",
    "    print('\\nDuplicate rows:', ecommerce_df.duplicated().sum())\n",
    "    print('\\nBasic statistics:')\n",
    "    print(ecommerce_df.describe())\n",
    "else:\n",
    "    print('ecommerce_df is NOT loaded.')"
   ]
  },
  {
   "cell_type": "markdown",
   "id": "4a5a1e55",
   "metadata": {},
   "source": [
    "## 6. Check Essential Columns\n",
    "Confirm that all required columns for analysis and visualization are present."
   ]
  },
  {
   "cell_type": "code",
   "execution_count": 6,
   "id": "8cd80f32",
   "metadata": {},
   "outputs": [
    {
     "name": "stdout",
     "output_type": "stream",
     "text": [
      "Missing columns: ['Ship_Date']\n"
     ]
    }
   ],
   "source": [
    "# Check for essential columns\n",
    "required_columns = ['Sales', 'Gender', 'Product_Category', 'Order_Date', 'Ship_Date']\n",
    "if ecommerce_df is not None:\n",
    "    missing = [col for col in required_columns if col not in ecommerce_df.columns]\n",
    "    if missing:\n",
    "        print(f\"Missing columns: {missing}\")\n",
    "    else:\n",
    "        print(\"All required columns are present.\")\n",
    "else:\n",
    "    print('ecommerce_df is NOT loaded.')"
   ]
  },
  {
   "cell_type": "markdown",
   "id": "7c737a6e",
   "metadata": {},
   "source": [
    "## 7. Simple Exploratory Visualizations\n",
    "Create basic plots to validate data structure and content."
   ]
  },
  {
   "cell_type": "code",
   "execution_count": 7,
   "id": "ae7b592e",
   "metadata": {},
   "outputs": [
    {
     "data": {
      "image/png": "[encoded data removed]",
      "text/plain": [
       "<Figure size 800x500 with 1 Axes>"
      ]
     },
     "metadata": {},
     "output_type": "display_data"
    }
   ],
   "source": [
    "# Sales histogram\n",
    "if ecommerce_df is not None and 'Sales' in ecommerce_df.columns:\n",
    "    plt.figure(figsize=(8,5))\n",
    "    plt.hist(ecommerce_df['Sales'].dropna(), bins=50, color='skyblue', alpha=0.7)\n",
    "    plt.title('Sales Distribution')\n",
    "    plt.xlabel('Sales')\n",
    "    plt.ylabel('Frequency')\n",
    "    plt.tight_layout()\n",
    "    plt.show()\n",
    "else:\n",
    "    print('Sales column not found or dataframe not loaded.')"
   ]
  },
  {
   "cell_type": "code",
   "execution_count": 8,
   "id": "4dc5472e",
   "metadata": {},
   "outputs": [
    {
     "data": {
      "image/png": "[encoded data removed]",
      "text/plain": [
       "<Figure size 1000x600 with 1 Axes>"
      ]
     },
     "metadata": {},
     "output_type": "display_data"
    }
   ],
   "source": [
    "# Product category distribution\n",
    "if ecommerce_df is not None and 'Product_Category' in ecommerce_df.columns:\n",
    "    plt.figure(figsize=(10,6))\n",
    "    ecommerce_df['Product_Category'].value_counts().plot(kind='bar', color='lightgreen')\n",
    "    plt.title('Product Category Distribution')\n",
    "    plt.xlabel('Product Category')\n",
    "    plt.ylabel('Count')\n",
    "    plt.tight_layout()\n",
    "    plt.show()\n",
    "else:\n",
    "    print('Product_Category column not found or dataframe not loaded.')"
   ]
  },
  {
   "cell_type": "markdown",
   "id": "95259f9b",
   "metadata": {},
   "source": [
    "## 8. Export Visualizations as PNG\n",
    "Save each plot as a PNG file in the /results_png/ directory for reproducibility."
   ]
  },
  {
   "cell_type": "code",
   "execution_count": null,
   "id": "b2013df6",
   "metadata": {},
   "outputs": [],
   "source": [
    "# Ensure results_png directory exists\n",
    "results_png_dir = Path('../results_png/')\n",
    "if not results_png_dir.exists():\n",
    "    results_png_dir.mkdir(parents=True)\n",
    "    print(f\"Created directory: {results_png_dir}\")\n",
    "else:\n",
    "    print(f\"Directory already exists: {results_png_dir}\")"
   ]
  },
  {
   "cell_type": "code",
   "execution_count": null,
   "id": "183d4b57",
   "metadata": {},
   "outputs": [],
   "source": [
    "# Export sales histogram as PNG\n",
    "if ecommerce_df is not None and 'Sales' in ecommerce_df.columns:\n",
    "    fig, ax = plt.subplots(figsize=(8,5))\n",
    "    ax.hist(ecommerce_df['Sales'].dropna(), bins=50, color='skyblue', alpha=0.7)\n",
    "    ax.set_title('Sales Distribution')\n",
    "    ax.set_xlabel('Sales')\n",
    "    ax.set_ylabel('Frequency')\n",
    "    plt.tight_layout()\n",
    "    plt.show()\n",
    "    fig.savefig(results_png_dir / 'sales_distribution.png', dpi=300)\n",
    "else:\n",
    "    print('Sales column not found or dataframe not loaded.')"
   ]
  },
  {
   "cell_type": "code",
   "execution_count": null,
   "id": "4ff5a061",
   "metadata": {},
   "outputs": [],
   "source": [
    "# Export product category distribution as PNG\n",
    "if ecommerce_df is not None and 'Product_Category' in ecommerce_df.columns:\n",
    "    fig, ax = plt.subplots(figsize=(10,6))\n",
    "    ecommerce_df['Product_Category'].value_counts().plot(kind='bar', color='lightgreen', ax=ax)\n",
    "    ax.set_title('Product Category Distribution')\n",
    "    ax.set_xlabel('Product Category')\n",
    "    ax.set_ylabel('Count')\n",
    "    plt.tight_layout()\n",
    "    plt.show()\n",
    "    fig.savefig(results_png_dir / 'product_category_distribution.png', dpi=300)\n",
    "else:\n",
    "    print('Product_Category column not found or dataframe not loaded.')"
   ]
  }
 ],
 "metadata": {
  "kernelspec": {
   "display_name": ".venv",
   "language": "python",
   "name": "python3"
  },
  "language_info": {
   "codemirror_mode": {
    "name": "ipython",
    "version": 3
   },
   "file_extension": ".py",
   "mimetype": "text/x-python",
   "name": "python",
   "nbconvert_exporter": "python",
   "pygments_lexer": "ipython3",
   "version": "3.13.7"
  }
 },
 "nbformat": 4,
 "nbformat_minor": 5
}
